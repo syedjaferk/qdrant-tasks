{
 "cells": [
  {
   "cell_type": "code",
   "execution_count": 1,
   "id": "cfeb7929-7bf1-4e0e-943f-82c4a918d866",
   "metadata": {},
   "outputs": [],
   "source": [
    "from qdrant_client import QdrantClient\n",
    "from qdrant_client.http import models\n",
    "from qdrant_client.http.models import CollectionStatus"
   ]
  },
  {
   "cell_type": "code",
   "execution_count": 2,
   "id": "3ea78561-7017-42c2-b328-e35e150d4d2b",
   "metadata": {},
   "outputs": [
    {
     "data": {
      "text/plain": [
       "<qdrant_client.qdrant_client.QdrantClient at 0x71db9b672650>"
      ]
     },
     "execution_count": 2,
     "metadata": {},
     "output_type": "execute_result"
    }
   ],
   "source": [
    "client = QdrantClient(host=\"localhost\", port=6333)\n",
    "client"
   ]
  },
  {
   "cell_type": "code",
   "execution_count": 3,
   "id": "0d10ced0-3905-45a0-9585-bfca655254f4",
   "metadata": {},
   "outputs": [
    {
     "name": "stdout",
     "output_type": "stream",
     "text": [
      "True\n"
     ]
    }
   ],
   "source": [
    "my_collection = \"first_collection\"\n",
    "\n",
    "first_collection = client.recreate_collection(\n",
    "    collection_name=my_collection,\n",
    "    vectors_config=models.VectorParams(size=100, distance=models.Distance.COSINE)\n",
    ")\n",
    "print(first_collection)"
   ]
  },
  {
   "cell_type": "code",
   "execution_count": 4,
   "id": "d5dd2cde-e1eb-4dac-aa44-794e0948cebd",
   "metadata": {},
   "outputs": [
    {
     "data": {
      "text/plain": [
       "[('status', <CollectionStatus.GREEN: 'green'>),\n",
       " ('optimizer_status', <OptimizersStatusOneOf.OK: 'ok'>),\n",
       " ('vectors_count', 0),\n",
       " ('indexed_vectors_count', 0),\n",
       " ('points_count', 0),\n",
       " ('segments_count', 8),\n",
       " ('config',\n",
       "  CollectionConfig(params=CollectionParams(vectors=VectorParams(size=100, distance=<Distance.COSINE: 'Cosine'>, hnsw_config=None, quantization_config=None, on_disk=None), shard_number=1, sharding_method=None, replication_factor=1, write_consistency_factor=1, read_fan_out_factor=None, on_disk_payload=True, sparse_vectors=None), hnsw_config=HnswConfig(m=16, ef_construct=100, full_scan_threshold=10000, max_indexing_threads=0, on_disk=False, payload_m=None), optimizer_config=OptimizersConfig(deleted_threshold=0.2, vacuum_min_vector_number=1000, default_segment_number=0, max_segment_size=None, memmap_threshold=None, indexing_threshold=20000, flush_interval_sec=5, max_optimization_threads=None), wal_config=WalConfig(wal_capacity_mb=32, wal_segments_ahead=0), quantization_config=None)),\n",
       " ('payload_schema', {})]"
      ]
     },
     "execution_count": 4,
     "metadata": {},
     "output_type": "execute_result"
    }
   ],
   "source": [
    "collection_info = client.get_collection(collection_name=my_collection)\n",
    "list(collection_info)"
   ]
  },
  {
   "cell_type": "code",
   "execution_count": 5,
   "id": "e9fd2d32-b43c-4408-9655-ae7a9a35feaa",
   "metadata": {},
   "outputs": [],
   "source": [
    "import numpy as np"
   ]
  },
  {
   "cell_type": "code",
   "execution_count": 6,
   "id": "bd3da5a8-903b-4feb-bc0b-b0984a172756",
   "metadata": {},
   "outputs": [
    {
     "data": {
      "text/plain": [
       "(numpy.float64,\n",
       " array([[ 0.84439167, -0.19918004, -0.61638736,  0.72398117,  0.4626335 ,\n",
       "         -0.64837971,  0.39309187,  0.20166689, -0.11510416, -0.85854435,\n",
       "         -0.10822716,  0.97322058,  0.1117175 , -0.85425979, -0.39769858,\n",
       "          0.15855545,  0.05905023,  0.099604  ,  0.01759705, -0.51561161],\n",
       "        [ 0.2583855 , -0.92291498, -0.52936709, -0.11128443, -0.85106515,\n",
       "         -0.94130676,  0.42319266,  0.36355282,  0.53345633,  0.6313361 ,\n",
       "         -0.79149132, -0.15043201,  0.469217  , -0.18505916, -0.90230898,\n",
       "         -0.81998317,  0.60496644,  0.78355021,  0.8703824 ,  0.40341385]]))"
      ]
     },
     "execution_count": 6,
     "metadata": {},
     "output_type": "execute_result"
    }
   ],
   "source": [
    "data = np.random.uniform(low=-1.0, high=1.0, size=(1_000, 100))\n",
    "type(data[0, 0]), data[:2, :20]"
   ]
  },
  {
   "cell_type": "code",
   "execution_count": 7,
   "id": "0c748ef1-8140-413f-8da3-6793e6bad3a8",
   "metadata": {},
   "outputs": [
    {
     "data": {
      "text/plain": [
       "[990, 991, 992, 993, 994, 995, 996, 997, 998, 999]"
      ]
     },
     "execution_count": 7,
     "metadata": {},
     "output_type": "execute_result"
    }
   ],
   "source": [
    "index = list(range(len(data)))\n",
    "index[-10:]"
   ]
  },
  {
   "cell_type": "code",
   "execution_count": 8,
   "id": "d6f9fdfd-56dc-4657-8b07-e973270a4a01",
   "metadata": {},
   "outputs": [
    {
     "data": {
      "text/plain": [
       "UpdateResult(operation_id=0, status=<UpdateStatus.COMPLETED: 'completed'>)"
      ]
     },
     "execution_count": 8,
     "metadata": {},
     "output_type": "execute_result"
    }
   ],
   "source": [
    "client.upsert(\n",
    "    collection_name=my_collection,\n",
    "    points=models.Batch(\n",
    "        ids=index,\n",
    "        vectors=data.tolist()\n",
    "    )\n",
    ")"
   ]
  },
  {
   "cell_type": "code",
   "execution_count": 9,
   "id": "766f06f9-f1d0-40c7-9f2f-6073bbea49ff",
   "metadata": {},
   "outputs": [
    {
     "data": {
      "text/plain": [
       "[Record(id=100, payload={}, vector=[0.04586303, -0.12236376, 0.07361238, 0.1290181, 0.081923746, 0.016158417, -0.14562848, 0.08458243, -0.031297635, -0.13974294, -0.08105281, 0.09390469, 0.061711494, -0.06162026, 0.16921076, 0.005850575, -0.18021618, 0.046764027, -0.15072034, -0.14405674, 0.01980764, -0.17589813, -0.16778044, -0.042625286, 0.087717816, 0.1749383, -0.060236596, 0.04281515, -0.021478314, 0.11451723, -0.026612358, 0.14152445, 0.12004151, -0.13624181, 0.113061935, -0.029496973, 0.10543082, -0.07494068, -0.012730644, 0.11382175, 0.17174783, 0.053966332, -0.06885202, 0.13197796, -0.10459465, 0.0038037582, -0.14315183, -0.036238264, -0.022871453, 0.1398432, 0.0307088, -0.1404576, 0.1012566, -0.09838463, -0.03314703, -0.028993018, -0.021312948, 0.05362477, 0.17641188, -0.0318828, 0.11421832, -0.10294863, -0.026903123, -0.042825118, -0.13673201, 0.08164635, 0.15495121, -0.009972439, -0.0918386, -0.09405637, 0.11648503, -0.079037204, -0.16316728, 0.0422289, 0.088015586, -0.02113747, 0.12000042, -0.05953877, -0.0866513, -0.039323535, -0.13983972, 0.015097936, 0.010960201, 0.14293326, 0.09367157, -0.0027022948, -0.0008987912, 0.1427893, -0.10851848, 0.025423987, -0.12932882, 0.031882223, -0.1347827, 0.06545424, -0.049088255, -0.15022358, 0.090588555, 0.083372496, -0.1269801, 0.13860515], shard_key=None)]"
      ]
     },
     "execution_count": 9,
     "metadata": {},
     "output_type": "execute_result"
    }
   ],
   "source": [
    "client.retrieve(\n",
    "    collection_name=my_collection,\n",
    "    ids=[100],\n",
    "    with_vectors=True # the default is False\n",
    ")"
   ]
  },
  {
   "cell_type": "code",
   "execution_count": 10,
   "id": "807594fa-797f-4934-b35a-f22ce0203fa2",
   "metadata": {},
   "outputs": [],
   "source": [
    "def create_song():\n",
    "    return np.random.uniform(low=-1.0, high=1.0, size=100).tolist()"
   ]
  },
  {
   "cell_type": "code",
   "execution_count": 11,
   "id": "fafc48b7-a329-40ff-b937-1e66d9e8f6b7",
   "metadata": {},
   "outputs": [
    {
     "data": {
      "text/plain": [
       "UpdateResult(operation_id=1, status=<UpdateStatus.COMPLETED: 'completed'>)"
      ]
     },
     "execution_count": 11,
     "metadata": {},
     "output_type": "execute_result"
    }
   ],
   "source": [
    "client.upsert(\n",
    "    collection_name=my_collection,\n",
    "    points=[\n",
    "        models.PointStruct(\n",
    "            id=1000,\n",
    "            vector=create_song(),\n",
    "        )\n",
    "    ]\n",
    ")"
   ]
  },
  {
   "cell_type": "code",
   "execution_count": 13,
   "id": "7764ab39-2091-4945-866b-6c2c30529bf4",
   "metadata": {},
   "outputs": [
    {
     "data": {
      "text/plain": [
       "CountResult(count=1001)"
      ]
     },
     "execution_count": 13,
     "metadata": {},
     "output_type": "execute_result"
    }
   ],
   "source": [
    "client.count(\n",
    "    collection_name=my_collection, \n",
    "    exact=True,\n",
    ")"
   ]
  },
  {
   "cell_type": "code",
   "execution_count": 14,
   "id": "d4d283ee-26fa-46d4-a8f7-bc5a88501569",
   "metadata": {},
   "outputs": [
    {
     "data": {
      "text/plain": [
       "UpdateResult(operation_id=2, status=<UpdateStatus.COMPLETED: 'completed'>)"
      ]
     },
     "execution_count": 14,
     "metadata": {},
     "output_type": "execute_result"
    }
   ],
   "source": [
    "client.delete(\n",
    "    collection_name=my_collection,\n",
    "    points_selector=models.PointIdsList(\n",
    "        points=[1000],\n",
    "    ),\n",
    ")"
   ]
  },
  {
   "cell_type": "code",
   "execution_count": 15,
   "id": "ef3d09b2-b1a9-431c-bef8-ad22e5458d57",
   "metadata": {},
   "outputs": [],
   "source": [
    "from faker import Faker"
   ]
  },
  {
   "cell_type": "code",
   "execution_count": 16,
   "id": "730114d1-b7c8-4177-83da-86a4b99f71a1",
   "metadata": {},
   "outputs": [
    {
     "data": {
      "text/plain": [
       "'Angel Doyle'"
      ]
     },
     "execution_count": 16,
     "metadata": {},
     "output_type": "execute_result"
    }
   ],
   "source": [
    "fake_something = Faker()\n",
    "fake_something.name()"
   ]
  },
  {
   "cell_type": "code",
   "execution_count": 17,
   "id": "fa098f01-1af2-462e-80fd-c8232547afb0",
   "metadata": {},
   "outputs": [],
   "source": [
    "payload = []\n",
    "\n",
    "for i in range(len(data)):\n",
    "    payload.append(\n",
    "        {\n",
    "            \"artist\":   fake_something.name(),\n",
    "            \"song\":     \" \".join(fake_something.words()),\n",
    "            \"url_song\": fake_something.url(),\n",
    "            \"year\":     fake_something.year(),\n",
    "            \"country\":  fake_something.country()\n",
    "        }\n",
    "    )"
   ]
  },
  {
   "cell_type": "code",
   "execution_count": 18,
   "id": "e6b8b9fd-8c10-44fe-bd38-f05edebe1c73",
   "metadata": {},
   "outputs": [
    {
     "data": {
      "text/plain": [
       "UpdateResult(operation_id=3, status=<UpdateStatus.COMPLETED: 'completed'>)"
      ]
     },
     "execution_count": 18,
     "metadata": {},
     "output_type": "execute_result"
    }
   ],
   "source": [
    "client.upsert(\n",
    "    collection_name=my_collection,\n",
    "    points=models.Batch(\n",
    "        ids=index,\n",
    "        vectors=data.tolist(),\n",
    "        payloads=payload\n",
    "    )\n",
    ")"
   ]
  },
  {
   "cell_type": "code",
   "execution_count": 19,
   "id": "72288381-ec83-4b68-a91e-019e811c6480",
   "metadata": {},
   "outputs": [
    {
     "data": {
      "text/plain": [
       "(list,\n",
       " [Record(id=10, payload={'artist': 'Preston Price', 'country': 'Nigeria', 'song': 'upon yet management', 'url_song': 'http://www.lopez.com/', 'year': '2009'}, vector=None, shard_key=None),\n",
       "  Record(id=50, payload={'artist': 'Victoria Clark', 'country': 'Sudan', 'song': 'check growth there', 'url_song': 'http://lane-hayes.com/', 'year': '2021'}, vector=None, shard_key=None),\n",
       "  Record(id=100, payload={'artist': 'Henry Macdonald', 'country': 'Libyan Arab Jamahiriya', 'song': 'doctor lawyer rate', 'url_song': 'https://www.harris-payne.com/', 'year': '2003'}, vector=None, shard_key=None),\n",
       "  Record(id=500, payload={'artist': 'Lori Stephenson', 'country': 'Northern Mariana Islands', 'song': 'product but evening', 'url_song': 'http://www.donovan.com/', 'year': '1983'}, vector=None, shard_key=None)])"
      ]
     },
     "execution_count": 19,
     "metadata": {},
     "output_type": "execute_result"
    }
   ],
   "source": [
    "resutls = client.retrieve(\n",
    "    collection_name=my_collection,\n",
    "    ids=[10, 50, 100, 500],\n",
    "    with_vectors=False\n",
    ")\n",
    "\n",
    "type(resutls), resutls"
   ]
  },
  {
   "cell_type": "code",
   "execution_count": 20,
   "id": "35aecbe2-f7c2-4921-b04c-b31f1176e3aa",
   "metadata": {},
   "outputs": [],
   "source": [
    "living_la_vida_loca = create_song()"
   ]
  },
  {
   "cell_type": "code",
   "execution_count": 21,
   "id": "7f55247e-3a71-4263-b28f-c62b92b60a7f",
   "metadata": {},
   "outputs": [
    {
     "data": {
      "text/plain": [
       "[ScoredPoint(id=918, version=3, score=0.33943692, payload={'artist': 'Michael Rivas', 'country': 'Jersey', 'song': 'across resource only', 'url_song': 'https://delgado.org/', 'year': '1990'}, vector=None, shard_key=None),\n",
       " ScoredPoint(id=970, version=3, score=0.29493442, payload={'artist': 'Gina Martinez', 'country': 'Libyan Arab Jamahiriya', 'song': 'investment number with', 'url_song': 'http://www.lamb.com/', 'year': '1982'}, vector=None, shard_key=None),\n",
       " ScoredPoint(id=612, version=3, score=0.2500589, payload={'artist': 'Michele Gutierrez', 'country': 'Guam', 'song': 'dinner guy success', 'url_song': 'http://www.turner-brown.com/', 'year': '1981'}, vector=None, shard_key=None)]"
      ]
     },
     "execution_count": 21,
     "metadata": {},
     "output_type": "execute_result"
    }
   ],
   "source": [
    "client.search(\n",
    "    collection_name=my_collection,\n",
    "    query_vector=living_la_vida_loca,\n",
    "    limit=3\n",
    ")"
   ]
  },
  {
   "cell_type": "code",
   "execution_count": 22,
   "id": "c076f0c8-2038-47d1-8253-07a579c1bb0b",
   "metadata": {},
   "outputs": [
    {
     "data": {
      "text/plain": [
       "qdrant_client.http.models.models.Filter"
      ]
     },
     "execution_count": 22,
     "metadata": {},
     "output_type": "execute_result"
    }
   ],
   "source": [
    "aussie_songs = models.Filter(\n",
    "    must=[models.FieldCondition(key=\"country\", match=models.MatchValue(value=\"Australia\"))]\n",
    ")\n",
    "type(aussie_songs)"
   ]
  },
  {
   "cell_type": "code",
   "execution_count": 23,
   "id": "9fb042fe-065b-455c-8541-7eb1b366def7",
   "metadata": {},
   "outputs": [
    {
     "data": {
      "text/plain": [
       "[ScoredPoint(id=439, version=3, score=0.08562013, payload={'artist': 'Amanda Chase', 'country': 'Australia', 'song': 'executive that vote', 'url_song': 'https://www.bridges.org/', 'year': '1971'}, vector=None, shard_key=None),\n",
       " ScoredPoint(id=873, version=3, score=0.05005426, payload={'artist': 'William Hall', 'country': 'Australia', 'song': 'team owner design', 'url_song': 'https://www.guerrero.net/', 'year': '2018'}, vector=None, shard_key=None)]"
      ]
     },
     "execution_count": 23,
     "metadata": {},
     "output_type": "execute_result"
    }
   ],
   "source": [
    "client.search(\n",
    "    collection_name=my_collection,\n",
    "    query_vector=living_la_vida_loca,\n",
    "    query_filter=aussie_songs,\n",
    "    limit=2\n",
    ")"
   ]
  },
  {
   "cell_type": "code",
   "execution_count": 24,
   "id": "d1cc5e60-b695-4ad9-8cfe-0a95c10028cd",
   "metadata": {},
   "outputs": [
    {
     "data": {
      "text/plain": [
       "[ScoredPoint(id=439, version=3, score=0.08562013, payload={'artist': 'Amanda Chase', 'country': 'Australia', 'song': 'executive that vote', 'url_song': 'https://www.bridges.org/'}, vector=None, shard_key=None),\n",
       " ScoredPoint(id=873, version=3, score=0.05005426, payload={'artist': 'William Hall', 'country': 'Australia', 'song': 'team owner design', 'url_song': 'https://www.guerrero.net/'}, vector=None, shard_key=None),\n",
       " ScoredPoint(id=528, version=3, score=-0.03573903, payload={'artist': 'Dennis Gillespie', 'country': 'Australia', 'song': 'difficult during moment', 'url_song': 'https://carpenter-johnson.com/'}, vector=None, shard_key=None)]"
      ]
     },
     "execution_count": 24,
     "metadata": {},
     "output_type": "execute_result"
    }
   ],
   "source": [
    "client.search(\n",
    "    collection_name=my_collection,\n",
    "    query_vector=living_la_vida_loca,\n",
    "    query_filter=aussie_songs,\n",
    "    with_payload=models.PayloadSelectorExclude(exclude=[\"year\"]),\n",
    "    limit=5\n",
    ")"
   ]
  },
  {
   "cell_type": "code",
   "execution_count": 25,
   "id": "9188e319-da53-4b87-a929-fffa0b66b4e4",
   "metadata": {},
   "outputs": [
    {
     "data": {
      "text/plain": [
       "UpdateResult(operation_id=4, status=<UpdateStatus.COMPLETED: 'completed'>)"
      ]
     },
     "execution_count": 25,
     "metadata": {},
     "output_type": "execute_result"
    }
   ],
   "source": [
    "client.clear_payload(\n",
    "    collection_name=my_collection,\n",
    "    points_selector=models.PointIdsList(\n",
    "        points=index,\n",
    "    )\n",
    ")"
   ]
  },
  {
   "cell_type": "code",
   "execution_count": null,
   "id": "018ff307-c1bd-4f57-ba3d-50e41638df4d",
   "metadata": {},
   "outputs": [],
   "source": []
  }
 ],
 "metadata": {
  "kernelspec": {
   "display_name": "Python 3 (ipykernel)",
   "language": "python",
   "name": "python3"
  },
  "language_info": {
   "codemirror_mode": {
    "name": "ipython",
    "version": 3
   },
   "file_extension": ".py",
   "mimetype": "text/x-python",
   "name": "python",
   "nbconvert_exporter": "python",
   "pygments_lexer": "ipython3",
   "version": "3.10.12"
  }
 },
 "nbformat": 4,
 "nbformat_minor": 5
}
